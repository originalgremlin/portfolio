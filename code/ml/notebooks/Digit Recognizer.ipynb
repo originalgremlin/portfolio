{
 "cells": [
  {
   "cell_type": "code",
   "execution_count": 2,
   "metadata": {},
   "outputs": [
    {
     "name": "stdout",
     "output_type": "stream",
     "text": [
      "env: JOBLIB_TEMP_FOLDER=/tmp\n"
     ]
    }
   ],
   "source": [
    "%env JOBLIB_TEMP_FOLDER=/tmp"
   ]
  },
  {
   "cell_type": "code",
   "execution_count": 3,
   "metadata": {},
   "outputs": [],
   "source": [
    "import matplotlib.pyplot as plt\n",
    "import matplotlib\n",
    "import numpy as np\n",
    "import pandas as pd\n",
    "import scipy\n",
    "import sklearn\n",
    "import torch\n",
    "from tqdm import tqdm_notebook as tqdm\n",
    "\n",
    "import warnings\n",
    "warnings.filterwarnings(\"ignore\", category=DeprecationWarning)"
   ]
  },
  {
   "cell_type": "markdown",
   "metadata": {},
   "source": [
    "# Motivation"
   ]
  },
  {
   "cell_type": "markdown",
   "metadata": {},
   "source": [
    "World-class methods for image classification can be found [here](https://rodrigob.github.io/are_we_there_yet/build/classification_datasets_results.html#4d4e495354)."
   ]
  },
  {
   "cell_type": "markdown",
   "metadata": {},
   "source": [
    "# Download Data"
   ]
  },
  {
   "cell_type": "code",
   "execution_count": 4,
   "metadata": {},
   "outputs": [],
   "source": [
    "PATH = '/usr/local/data/digit-recognizer'\n",
    "#!kaggle competitions download -c digit-recognizer -p {PATH}\n",
    "\n",
    "train_labels, train = [x.squeeze() for x in np.hsplit(pd.read_csv('{}/train.csv'.format(PATH)).values, [1])]\n",
    "test = pd.read_csv('{}/test.csv'.format(PATH)).values"
   ]
  },
  {
   "cell_type": "markdown",
   "metadata": {},
   "source": [
    "# Explore Data"
   ]
  },
  {
   "cell_type": "code",
   "execution_count": 5,
   "metadata": {},
   "outputs": [],
   "source": [
    "def reshape(arr, width=28, height=28):\n",
    "    return np.uint8(arr.reshape(width, height))\n",
    "\n",
    "def show(arr):\n",
    "    plt.imshow(reshape(arr), cmap=matplotlib.cm.binary, interpolation='nearest')"
   ]
  },
  {
   "cell_type": "markdown",
   "metadata": {},
   "source": [
    "## Data Layout"
   ]
  },
  {
   "cell_type": "markdown",
   "metadata": {},
   "source": [
    "MNIST images are 28x28 8-bit arrays stored as a single length 784 array."
   ]
  },
  {
   "cell_type": "code",
   "execution_count": 6,
   "metadata": {},
   "outputs": [
    {
     "name": "stdout",
     "output_type": "stream",
     "text": [
      "(42000, 784)\n",
      "0 255\n"
     ]
    }
   ],
   "source": [
    "print(train.shape)\n",
    "print(train.min(), train.max())"
   ]
  },
  {
   "cell_type": "code",
   "execution_count": 7,
   "metadata": {},
   "outputs": [
    {
     "data": {
      "text/plain": [
       "array([[  0,   0,   0,   0,   0,   0,   0,   0,   0,   0,   0,   0,   0,   0,   0,   0,   0,   0,\n",
       "          0,   0,   0,   0,   0,   0,   0,   0,   0,   0],\n",
       "       [  0,   0,   0,   0,   0,   0,   0,   0,   0,   0,   0,   0,   0,   0,   0,   0,   0,   0,\n",
       "          0,   0,   0,   0,   0,   0,   0,   0,   0,   0],\n",
       "       [  0,   0,   0,   0,   0,   0,   0,   0,   0,   0,   0,   0,   0,   0,   0,   0,   0,   0,\n",
       "          0,   0,   0,   0,   0,   0,   0,   0,   0,   0],\n",
       "       [  0,   0,   0,   0,   0,   0,   0,   0,   0,   0,   0,   0,   0,   0,   0,   0,   0,   0,\n",
       "          0,   0,   0,   0,   0,   0,   0,   0,   0,   0],\n",
       "       [  0,   0,   0,   0,   0,   0,   0,   0,   0,   0,   0,   0,   0,   0,   0,   0,   0,   0,\n",
       "          0,   0, 188, 255,  94,   0,   0,   0,   0,   0],\n",
       "       [  0,   0,   0,   0,   0,   0,   0,   0,   0,   0,   0,   0,   0,   0,   0,   0,   0,   0,\n",
       "          0, 191, 250, 253,  93,   0,   0,   0,   0,   0],\n",
       "       [  0,   0,   0,   0,   0,   0,   0,   0,   0,   0,   0,   0,   0,   0,   0,   0,   0,   0,\n",
       "        123, 248, 253, 167,  10,   0,   0,   0,   0,   0],\n",
       "       [  0,   0,   0,   0,   0,   0,   0,   0,   0,   0,   0,   0,   0,   0,   0,   0,   0,  80,\n",
       "        247, 253, 208,  13,   0,   0,   0,   0,   0,   0],\n",
       "       [  0,   0,   0,   0,   0,   0,   0,   0,   0,   0,   0,   0,   0,   0,   0,   0,  29, 207,\n",
       "        253, 235,  77,   0,   0,   0,   0,   0,   0,   0],\n",
       "       [  0,   0,   0,   0,   0,   0,   0,   0,   0,   0,   0,   0,   0,   0,   0,  54, 209, 253,\n",
       "        253,  88,   0,   0,   0,   0,   0,   0,   0,   0],\n",
       "       [  0,   0,   0,   0,   0,   0,   0,   0,   0,   0,   0,   0,   0,   0,  93, 254, 253, 238,\n",
       "        170,  17,   0,   0,   0,   0,   0,   0,   0,   0],\n",
       "       [  0,   0,   0,   0,   0,   0,   0,   0,   0,   0,   0,   0,   0,  23, 210, 254, 253, 159,\n",
       "          0,   0,   0,   0,   0,   0,   0,   0,   0,   0],\n",
       "       [  0,   0,   0,   0,   0,   0,   0,   0,   0,   0,   0,   0,  16, 209, 253, 254, 240,  81,\n",
       "          0,   0,   0,   0,   0,   0,   0,   0,   0,   0],\n",
       "       [  0,   0,   0,   0,   0,   0,   0,   0,   0,   0,   0,   0,  27, 253, 253, 254,  13,   0,\n",
       "          0,   0,   0,   0,   0,   0,   0,   0,   0,   0],\n",
       "       [  0,   0,   0,   0,   0,   0,   0,   0,   0,   0,   0,  20, 206, 254, 254, 198,   7,   0,\n",
       "          0,   0,   0,   0,   0,   0,   0,   0,   0,   0],\n",
       "       [  0,   0,   0,   0,   0,   0,   0,   0,   0,   0,   0, 168, 253, 253, 196,   7,   0,   0,\n",
       "          0,   0,   0,   0,   0,   0,   0,   0,   0,   0],\n",
       "       [  0,   0,   0,   0,   0,   0,   0,   0,   0,   0,  20, 203, 253, 248,  76,   0,   0,   0,\n",
       "          0,   0,   0,   0,   0,   0,   0,   0,   0,   0],\n",
       "       [  0,   0,   0,   0,   0,   0,   0,   0,   0,  22, 188, 253, 245,  93,   0,   0,   0,   0,\n",
       "          0,   0,   0,   0,   0,   0,   0,   0,   0,   0],\n",
       "       [  0,   0,   0,   0,   0,   0,   0,   0,   0, 103, 253, 253, 191,   0,   0,   0,   0,   0,\n",
       "          0,   0,   0,   0,   0,   0,   0,   0,   0,   0],\n",
       "       [  0,   0,   0,   0,   0,   0,   0,   0,  89, 240, 253, 195,  25,   0,   0,   0,   0,   0,\n",
       "          0,   0,   0,   0,   0,   0,   0,   0,   0,   0],\n",
       "       [  0,   0,   0,   0,   0,   0,   0,  15, 220, 253, 253,  80,   0,   0,   0,   0,   0,   0,\n",
       "          0,   0,   0,   0,   0,   0,   0,   0,   0,   0],\n",
       "       [  0,   0,   0,   0,   0,   0,   0,  94, 253, 253, 253,  94,   0,   0,   0,   0,   0,   0,\n",
       "          0,   0,   0,   0,   0,   0,   0,   0,   0,   0],\n",
       "       [  0,   0,   0,   0,   0,   0,   0,  89, 251, 253, 250, 131,   0,   0,   0,   0,   0,   0,\n",
       "          0,   0,   0,   0,   0,   0,   0,   0,   0,   0],\n",
       "       [  0,   0,   0,   0,   0,   0,   0,   0, 214, 218,  95,   0,   0,   0,   0,   0,   0,   0,\n",
       "          0,   0,   0,   0,   0,   0,   0,   0,   0,   0],\n",
       "       [  0,   0,   0,   0,   0,   0,   0,   0,   0,   0,   0,   0,   0,   0,   0,   0,   0,   0,\n",
       "          0,   0,   0,   0,   0,   0,   0,   0,   0,   0],\n",
       "       [  0,   0,   0,   0,   0,   0,   0,   0,   0,   0,   0,   0,   0,   0,   0,   0,   0,   0,\n",
       "          0,   0,   0,   0,   0,   0,   0,   0,   0,   0],\n",
       "       [  0,   0,   0,   0,   0,   0,   0,   0,   0,   0,   0,   0,   0,   0,   0,   0,   0,   0,\n",
       "          0,   0,   0,   0,   0,   0,   0,   0,   0,   0],\n",
       "       [  0,   0,   0,   0,   0,   0,   0,   0,   0,   0,   0,   0,   0,   0,   0,   0,   0,   0,\n",
       "          0,   0,   0,   0,   0,   0,   0,   0,   0,   0]], dtype=uint8)"
      ]
     },
     "execution_count": 7,
     "metadata": {},
     "output_type": "execute_result"
    }
   ],
   "source": [
    "np.set_printoptions(linewidth=100)\n",
    "reshape(train[0])"
   ]
  },
  {
   "cell_type": "markdown",
   "metadata": {},
   "source": [
    "## Images"
   ]
  },
  {
   "cell_type": "code",
   "execution_count": 8,
   "metadata": {},
   "outputs": [
    {
     "data": {
      "image/png": "[encoded data removed]",
      "text/plain": [
       "<matplotlib.figure.Figure at 0x7f89d42b9a90>"
      ]
     },
     "metadata": {},
     "output_type": "display_data"
    }
   ],
   "source": [
    "for i in range(0, 20):\n",
    "    plt.subplot(4, 5, i + 1)\n",
    "    plt.axis('off')\n",
    "    plt.imshow(train[i].reshape(28, 28), cmap=matplotlib.cm.binary, interpolation='nearest') "
   ]
  },
  {
   "cell_type": "markdown",
   "metadata": {},
   "source": [
    "# Submission Baseline"
   ]
  },
  {
   "cell_type": "markdown",
   "metadata": {},
   "source": [
    "## All Zero"
   ]
  },
  {
   "cell_type": "code",
   "execution_count": 9,
   "metadata": {},
   "outputs": [],
   "source": [
    "message = 'all zeros'\n",
    "predictions=0\n",
    "\n",
    "#test.assign(Label=predictions).to_csv('{}/submissions/{}.csv'.format(PATH, message), columns=['Label'], float_format='%.f')\n",
    "#!kaggle competitions submit -c digit-recognizer -f \"{PATH}/submissions/{message}.csv\" -m \"{message}\""
   ]
  },
  {
   "cell_type": "markdown",
   "metadata": {},
   "source": [
    "# Prepare Data"
   ]
  },
  {
   "cell_type": "markdown",
   "metadata": {},
   "source": [
    "## Augment"
   ]
  },
  {
   "cell_type": "markdown",
   "metadata": {},
   "source": [
    "Add generated images to the data set.\n",
    "\n",
    "Transformations include:\n",
    "- shift left/right/up/down\n",
    "- rotate left/right\n",
    "- stretch horizontal/vertical\n",
    "- scale up/down\n",
    "\n",
    "Each augmentation chooses small values for changing the angle, position, and scale of the original image. The resulting transformations should then be unique, but similar enough to the original image to retain the orginal label. Typically 3-5 augmented images are added to the original, boosting the training set size significantly."
   ]
  },
  {
   "cell_type": "code",
   "execution_count": 9,
   "metadata": {},
   "outputs": [],
   "source": [
    "from PIL import Image\n",
    "from scipy import stats\n",
    "\n",
    "def transform(imarray, w=None, h=None, angle=0, dx=0, dy=0, dw=0, dh=0):\n",
    "    im = Image.fromarray(reshape(imarray))\n",
    "    size = (w or im.width, h or im.height)\n",
    "    resized = im.resize(size, Image.BICUBIC, (dw, dh, im.width - dw, im.height - dh))\n",
    "    rotated = resized.rotate(angle, Image.BICUBIC, translate=(dx, dy))\n",
    "    data = rotated.getdata()\n",
    "    return np.array(data)\n",
    "\n",
    "def augment(X, num_augmentations=3, reshape=False):\n",
    "    da = stats.randint(-10, 11).rvs\n",
    "    dxy = stats.randint(-2, 3).rvs\n",
    "    dwh = stats.randint(0, 3).rvs\n",
    "    transformations = np.apply_along_axis(lambda x: [transform(x, angle=da(), dx=dxy(), dy=dxy(), dw=dwh(), dh=dwh()) for i in range(0, num_augmentations)], 1, X)\n",
    "    concatenated = np.concatenate([np.expand_dims(X, axis=1), transformations], axis=1)\n",
    "    return concatenated.reshape(-1, X.shape[1]) if reshape else concatenated"
   ]
  },
  {
   "cell_type": "code",
   "execution_count": 10,
   "metadata": {},
   "outputs": [],
   "source": [
    "num_augmentations = 1\n",
    "train = augment(train, num_augmentations, True)\n",
    "train_labels = np.repeat(train_labels, num_augmentations + 1)"
   ]
  },
  {
   "cell_type": "markdown",
   "metadata": {},
   "source": [
    "## Explore Augmented Data"
   ]
  },
  {
   "cell_type": "code",
   "execution_count": 11,
   "metadata": {},
   "outputs": [
    {
     "name": "stdout",
     "output_type": "stream",
     "text": [
      "(84000, 784) (84000,)\n"
     ]
    }
   ],
   "source": [
    "print(train.shape, train_labels.shape)"
   ]
  },
  {
   "cell_type": "code",
   "execution_count": 12,
   "metadata": {},
   "outputs": [
    {
     "data": {
      "image/png": "[encoded data removed]",
      "text/plain": [
       "<matplotlib.figure.Figure at 0x7fc120ac7160>"
      ]
     },
     "metadata": {},
     "output_type": "display_data"
    }
   ],
   "source": [
    "for i in range(0, 20):\n",
    "    plt.subplot(5, 4, i + 1)\n",
    "    plt.axis('off')\n",
    "    plt.imshow(train[i].reshape(28, 28), cmap=matplotlib.cm.binary, interpolation='nearest') "
   ]
  },
  {
   "cell_type": "code",
   "execution_count": 13,
   "metadata": {},
   "outputs": [
    {
     "data": {
      "text/plain": [
       "array([1, 1, 0, 0, 1, 1, 4, 4, 0, 0, 0, 0, 7, 7, 3, 3, 5, 5, 3, 3])"
      ]
     },
     "execution_count": 13,
     "metadata": {},
     "output_type": "execute_result"
    }
   ],
   "source": [
    "train_labels[:20]"
   ]
  },
  {
   "cell_type": "markdown",
   "metadata": {},
   "source": [
    "## Shuffle"
   ]
  },
  {
   "cell_type": "code",
   "execution_count": 10,
   "metadata": {},
   "outputs": [],
   "source": [
    "train, train_labels = sklearn.utils.shuffle(train, train_labels)"
   ]
  },
  {
   "cell_type": "markdown",
   "metadata": {},
   "source": [
    "## Transform"
   ]
  },
  {
   "cell_type": "code",
   "execution_count": 11,
   "metadata": {},
   "outputs": [],
   "source": [
    "from sklearn.pipeline import Pipeline\n",
    "from ml.transformers import ConstantScaler\n",
    "\n",
    "pipeline = Pipeline([\n",
    "    ('scale', ConstantScaler(1.0/255)),\n",
    "])\n",
    "\n",
    "train_prepared = pipeline.fit_transform(train)"
   ]
  },
  {
   "cell_type": "markdown",
   "metadata": {},
   "source": [
    "# Model Selection"
   ]
  },
  {
   "cell_type": "code",
   "execution_count": 12,
   "metadata": {},
   "outputs": [
    {
     "data": {
      "application/vnd.jupyter.widget-view+json": {
       "model_id": "8c1fca8aa0684bf6ab0fd2860215556a",
       "version_major": 2,
       "version_minor": 0
      },
      "text/html": [
       "<p>Failed to display Jupyter Widget of type <code>HBox</code>.</p>\n",
       "<p>\n",
       "  If you're reading this message in the Jupyter Notebook or JupyterLab Notebook, it may mean\n",
       "  that the widgets JavaScript is still loading. If this message persists, it\n",
       "  likely means that the widgets JavaScript library is either not installed or\n",
       "  not enabled. See the <a href=\"https://ipywidgets.readthedocs.io/en/stable/user_install.html\">Jupyter\n",
       "  Widgets Documentation</a> for setup instructions.\n",
       "</p>\n",
       "<p>\n",
       "  If you're reading this message in another frontend (for example, a static\n",
       "  rendering on GitHub or <a href=\"https://nbviewer.jupyter.org/\">NBViewer</a>),\n",
       "  it may mean that your frontend doesn't currently support widgets.\n",
       "</p>\n"
      ],
      "text/plain": [
       "HBox(children=(IntProgress(value=0, max=3), HTML(value='')))"
      ]
     },
     "metadata": {},
     "output_type": "display_data"
    },
    {
     "name": "stdout",
     "output_type": "stream",
     "text": [
      "\n"
     ]
    },
    {
     "data": {
      "text/html": [
       "<div>\n",
       "<style scoped>\n",
       "    .dataframe tbody tr th:only-of-type {\n",
       "        vertical-align: middle;\n",
       "    }\n",
       "\n",
       "    .dataframe tbody tr th {\n",
       "        vertical-align: top;\n",
       "    }\n",
       "\n",
       "    .dataframe thead th {\n",
       "        text-align: right;\n",
       "    }\n",
       "</style>\n",
       "<table border=\"1\" class=\"dataframe\">\n",
       "  <thead>\n",
       "    <tr style=\"text-align: right;\">\n",
       "      <th></th>\n",
       "      <th>Mean</th>\n",
       "      <th>Std Dev</th>\n",
       "    </tr>\n",
       "    <tr>\n",
       "      <th>Model</th>\n",
       "      <th></th>\n",
       "      <th></th>\n",
       "    </tr>\n",
       "  </thead>\n",
       "  <tbody>\n",
       "    <tr>\n",
       "      <th>KNeighborsClassifier</th>\n",
       "      <td>0.915405</td>\n",
       "      <td>0.005033</td>\n",
       "    </tr>\n",
       "    <tr>\n",
       "      <th>XGBClassifier</th>\n",
       "      <td>0.906798</td>\n",
       "      <td>0.008260</td>\n",
       "    </tr>\n",
       "    <tr>\n",
       "      <th>RandomForestClassifier</th>\n",
       "      <td>0.861998</td>\n",
       "      <td>0.006963</td>\n",
       "    </tr>\n",
       "  </tbody>\n",
       "</table>\n",
       "</div>"
      ],
      "text/plain": [
       "                            Mean   Std Dev\n",
       "Model                                     \n",
       "KNeighborsClassifier    0.915405  0.005033\n",
       "XGBClassifier           0.906798  0.008260\n",
       "RandomForestClassifier  0.861998  0.006963"
      ]
     },
     "execution_count": 12,
     "metadata": {},
     "output_type": "execute_result"
    }
   ],
   "source": [
    "# TODO: move functions to /usr/local/lib/ml/util\n",
    "\n",
    "from sklearn.model_selection import cross_validate\n",
    "from sklearn.multiclass import OneVsRestClassifier\n",
    "from sklearn.svm import LinearSVC, SVC\n",
    "from sklearn.linear_model import ElasticNet\n",
    "from sklearn.neighbors import KNeighborsClassifier\n",
    "from sklearn.neighbors.nearest_centroid import NearestCentroid\n",
    "from sklearn.dummy import DummyClassifier\n",
    "from sklearn.ensemble import RandomForestClassifier, ExtraTreesClassifier, GradientBoostingClassifier, AdaBoostClassifier\n",
    "from xgboost import XGBClassifier\n",
    "\n",
    "def evaluate_model(estimator, X, y=None, cv=5, scoring='accuracy'):\n",
    "    scores = cross_validate(estimator, X, y, cv=cv, scoring=scoring, n_jobs=-1, return_train_score=False)['test_score']\n",
    "    return estimator.__class__.__name__, scores.mean(), scores.std()\n",
    "\n",
    "def rank_models(estimators, X, y=None, cv=5, scoring='accuracy'):\n",
    "    scores = [evaluate_model(estimator, X, y, cv, scoring) for estimator in estimators]\n",
    "    columns= ['Model', 'Mean', 'Std Dev']\n",
    "    return pd.DataFrame(scores, columns=columns).set_index('Model')\n",
    "\n",
    "estimators = tqdm([\n",
    "#    AdaBoostClassifier(),\n",
    "#    DummyClassifier(),\n",
    "#    ExtraTreesClassifier(),\n",
    "#    GradientBoostingClassifier(),\n",
    "    KNeighborsClassifier(),\n",
    "#    LinearSVC(),\n",
    "#    NearestCentroid(),\n",
    "    RandomForestClassifier(),\n",
    "#    RidgeClassifier(),\n",
    "#    SVC(),\n",
    "    XGBClassifier()\n",
    "])\n",
    "scores = rank_models(estimators, train_prepared[:5000], train_labels[:5000], cv=3)\n",
    "scores.sort_values('Mean', ascending=False)"
   ]
  },
  {
   "cell_type": "markdown",
   "metadata": {},
   "source": [
    "KNeighborsClassifier is both highly accurate and fast to train.  The boosting models are also quite accurate but take so long to train that proper hyperparameter search will be impossible."
   ]
  },
  {
   "cell_type": "markdown",
   "metadata": {},
   "source": [
    "# Hyperparameter Tuning"
   ]
  },
  {
   "cell_type": "code",
   "execution_count": 13,
   "metadata": {},
   "outputs": [
    {
     "name": "stdout",
     "output_type": "stream",
     "text": [
      "Fitting 3 folds for each of 42 candidates, totalling 126 fits\n"
     ]
    },
    {
     "name": "stderr",
     "output_type": "stream",
     "text": [
      "[Parallel(n_jobs=-1)]: Done  42 tasks      | elapsed:  1.1min\n",
      "[Parallel(n_jobs=-1)]: Done 126 out of 126 | elapsed:  3.0min finished\n"
     ]
    },
    {
     "data": {
      "text/plain": [
       "{sklearn.neighbors.classification.KNeighborsClassifier: array([{'algorithm': 'ball_tree', 'leaf_size': 45, 'n_neighbors': 5, 'p': 2, 'weights': 'distance'}],\n",
       "       dtype=object)}"
      ]
     },
     "execution_count": 13,
     "metadata": {},
     "output_type": "execute_result"
    }
   ],
   "source": [
    "from sklearn.model_selection import GridSearchCV, RandomizedSearchCV\n",
    "\n",
    "def grid_search(estimator, distribution, X, y, n_results=3):\n",
    "    search = GridSearchCV(estimator(), distribution, n_jobs=-1, return_train_score=False, verbose=1)\n",
    "    results = search.fit(X, y).cv_results_\n",
    "    indexes = np.argsort(results['rank_test_score'])[:n_results]\n",
    "    params = np.array(results['params'])[indexes]\n",
    "    return params\n",
    "    \n",
    "def randomized_search(estimator, distribution, X, y, n_iter=1000, n_results=3):\n",
    "    search = RandomizedSearchCV(estimator(), distribution, n_iter=n_iter, n_jobs=-1, return_train_score=False, verbose=1)\n",
    "    results = search.fit(X, y).cv_results_\n",
    "    indexes = np.argsort(results['rank_test_score'])[:n_results]\n",
    "    params = np.array(results['params'])[indexes]\n",
    "    return params\n",
    "\n",
    "hyperparameter_distributions = {\n",
    "    KNeighborsClassifier: {\n",
    "        'n_neighbors': [1, 3, 5, 7, 9, 11],\n",
    "        'weights': ['distance'],\n",
    "        'algorithm': ['ball_tree'],\n",
    "        'leaf_size': [10, 20, 30, 45, 60, 75, 100],\n",
    "        'p': [2]\n",
    "    }\n",
    "}\n",
    "    \n",
    "hyperparameters = {\n",
    "    estimator: grid_search(estimator, distribution, train_prepared[:5000], train_labels[:5000], n_results=1)\n",
    "    for estimator, distribution in hyperparameter_distributions.items()\n",
    "    if estimator in [KNeighborsClassifier]\n",
    "}\n",
    "hyperparameters"
   ]
  },
  {
   "cell_type": "code",
   "execution_count": 16,
   "metadata": {},
   "outputs": [
    {
     "data": {
      "text/plain": [
       "{sklearn.neighbors.classification.KNeighborsClassifier: array([{'algorithm': 'ball_tree', 'leaf_size': 75, 'n_neighbors': 3, 'p': 2, 'weights': 'distance'}],\n",
       "       dtype=object)}"
      ]
     },
     "execution_count": 16,
     "metadata": {},
     "output_type": "execute_result"
    }
   ],
   "source": [
    "from sklearn.neighbors import KNeighborsClassifier\n",
    "\n",
    "hyperparameters = {\n",
    "    KNeighborsClassifier: np.array([{\n",
    "        'algorithm': 'ball_tree',\n",
    "        'leaf_size': 10,\n",
    "        'n_neighbors': 3,\n",
    "        'p': 2,\n",
    "        'weights': 'distance'\n",
    "    }])\n",
    "}\n",
    "hyperparameters"
   ]
  },
  {
   "cell_type": "markdown",
   "metadata": {},
   "source": [
    "# Model Ensemble"
   ]
  },
  {
   "cell_type": "code",
   "execution_count": 19,
   "metadata": {},
   "outputs": [],
   "source": [
    "from sklearn.ensemble import VotingClassifier\n",
    "\n",
    "voting_estimators = [\n",
    "    ('{}-{}'.format(estimator.__name__, i), estimator(**param))\n",
    "    for estimator, params in hyperparameters.items()\n",
    "    for i, param in enumerate(params)\n",
    "]\n",
    "voting_classifier = VotingClassifier(voting_estimators, voting='soft')\n",
    "evaluate_model(voting_classifier, train_prepared[:5000], train_labels[:5000])"
   ]
  },
  {
   "cell_type": "markdown",
   "metadata": {},
   "source": [
    "# Test Time Augmentation"
   ]
  },
  {
   "cell_type": "code",
   "execution_count": 37,
   "metadata": {},
   "outputs": [],
   "source": [
    "def TTA(model, X, num_augmentations=4, split_size=1000):\n",
    "    predictions = []\n",
    "    for arr in tqdm(np.array_split(X, np.size(X, 0) / split_size)):\n",
    "        prepared = pipeline.transform(augment(arr, num_augmentations, True))\n",
    "        probs = model.predict_proba(prepared).reshape(-1, num_augmentations + 1, 10).mean(axis=1)\n",
    "        predictions.append(np.argmax(probs, axis=1))\n",
    "    return np.hstack(predictions)"
   ]
  },
  {
   "cell_type": "markdown",
   "metadata": {},
   "source": [
    "# Prediction"
   ]
  },
  {
   "cell_type": "code",
   "execution_count": 21,
   "metadata": {},
   "outputs": [
    {
     "data": {
      "text/plain": [
       "VotingClassifier(estimators=[('KNeighborsClassifier-0', KNeighborsClassifier(algorithm='ball_tree', leaf_size=75, metric='minkowski',\n",
       "           metric_params=None, n_jobs=1, n_neighbors=3, p=2,\n",
       "           weights='distance'))],\n",
       "         flatten_transform=None, n_jobs=1, voting='soft', weights=None)"
      ]
     },
     "execution_count": 21,
     "metadata": {},
     "output_type": "execute_result"
    }
   ],
   "source": [
    "final_estimator = voting_classifier\n",
    "final_estimator.fit(train_prepared, train_labels)"
   ]
  },
  {
   "cell_type": "code",
   "execution_count": null,
   "metadata": {},
   "outputs": [
    {
     "data": {
      "application/vnd.jupyter.widget-view+json": {
       "model_id": "27e91c9047f14fa595cab5ebe87e00f9",
       "version_major": 2,
       "version_minor": 0
      },
      "text/html": [
       "<p>Failed to display Jupyter Widget of type <code>HBox</code>.</p>\n",
       "<p>\n",
       "  If you're reading this message in the Jupyter Notebook or JupyterLab Notebook, it may mean\n",
       "  that the widgets JavaScript is still loading. If this message persists, it\n",
       "  likely means that the widgets JavaScript library is either not installed or\n",
       "  not enabled. See the <a href=\"https://ipywidgets.readthedocs.io/en/stable/user_install.html\">Jupyter\n",
       "  Widgets Documentation</a> for setup instructions.\n",
       "</p>\n",
       "<p>\n",
       "  If you're reading this message in another frontend (for example, a static\n",
       "  rendering on GitHub or <a href=\"https://nbviewer.jupyter.org/\">NBViewer</a>),\n",
       "  it may mean that your frontend doesn't currently support widgets.\n",
       "</p>\n"
      ],
      "text/plain": [
       "HBox(children=(IntProgress(value=0, max=10), HTML(value='')))"
      ]
     },
     "metadata": {},
     "output_type": "display_data"
    }
   ],
   "source": [
    "use_tta = True\n",
    "\n",
    "if use_tta:\n",
    "    final_predictions = final_estimator.predict(pipeline.transform(test))\n",
    "else:    \n",
    "    final_predictions = TTA(final_estimator, test, 4, 100)\n",
    "\n",
    "print(final_predictions.shape, final_predictions[:20])"
   ]
  },
  {
   "cell_type": "markdown",
   "metadata": {},
   "source": [
    "# Submission"
   ]
  },
  {
   "cell_type": "code",
   "execution_count": 28,
   "metadata": {},
   "outputs": [],
   "source": [
    "# TODO: put in /usr/local/lib/ml/util\n",
    "# TODO: refactor download and baseline submission cells to use utility functions\n",
    "\n",
    "def download(competition, path):\n",
    "    !kaggle competitions download -c \"{competition}\" -p \"{path}\"\n",
    "\n",
    "def submit(competition, file, message):\n",
    "    !kaggle competitions submit -c \"{competition}\" -f \"{file}\" -m \"{message}\""
   ]
  },
  {
   "cell_type": "code",
   "execution_count": 26,
   "metadata": {},
   "outputs": [],
   "source": [
    "final_indices = np.arange(1, final_predictions.size + 1)\n",
    "final_csv = '{}/submissions/tuned_large_knn_with_tta.csv'.format(PATH)\n",
    "np.savetxt(final_csv, np.array([final_indices, final_predictions]).transpose(), fmt='%d', header='ImageId,Label', comments='', delimiter=',')"
   ]
  },
  {
   "cell_type": "code",
   "execution_count": 29,
   "metadata": {},
   "outputs": [
    {
     "name": "stdout",
     "output_type": "stream",
     "text": [
      "Successfully submitted to Digit Recognizer"
     ]
    }
   ],
   "source": [
    "submit('digit-recognizer', final_csv, 'tuned knn on full training set with training and test set augmentation')"
   ]
  }
 ],
 "metadata": {
  "kernelspec": {
   "display_name": "Python 3",
   "language": "python",
   "name": "python3"
  },
  "language_info": {
   "codemirror_mode": {
    "name": "ipython",
    "version": 3
   },
   "file_extension": ".py",
   "mimetype": "text/x-python",
   "name": "python",
   "nbconvert_exporter": "python",
   "pygments_lexer": "ipython3",
   "version": "3.6.4"
  }
 },
 "nbformat": 4,
 "nbformat_minor": 2
}
